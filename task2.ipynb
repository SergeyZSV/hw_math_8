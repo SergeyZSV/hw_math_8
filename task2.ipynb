{
 "cells": [
  {
   "cell_type": "markdown",
   "metadata": {},
   "source": [
    "Измерены значения IQ выборки студентов, обучающихся в местных технических вузах:\n",
    "\n",
    "131, 125, 115, 122, 131, 115, 107, 99, 125, 111.\n",
    "\n",
    "Известно, что в генеральной совокупности IQ распределен нормально.\n",
    "\n",
    "Найдите доверительный интервал для математического ожидания с надежностью 0.95."
   ]
  },
  {
   "cell_type": "markdown",
   "metadata": {},
   "source": [
    "$\\overline{x} \\pm t_{\\frac{\\alpha}{2}} * \\frac{\\sigma}{\\sqrt{n}} \\text{, если \\(\\sigma\\) генеральной совокупности неизвестна, тогда} \\\\$\n",
    "$\\text{вычисляем \\(\\sigma\\) по выборке, используя формулу для несмещенного стандартного отклонения,} \\\\$\n",
    "$\\text{или функция в Python  std(x, ddof = 1)}$"
   ]
  },
  {
   "cell_type": "code",
   "execution_count": 56,
   "metadata": {},
   "outputs": [],
   "source": [
    "import numpy as np\n",
    "import scipy.stats as stats"
   ]
  },
  {
   "cell_type": "code",
   "execution_count": 57,
   "metadata": {},
   "outputs": [],
   "source": [
    "iq = np.array([131, 125, 115, 122, 131, 115, 107, 99, 125, 111])\n",
    "alpha = 0.05"
   ]
  },
  {
   "cell_type": "code",
   "execution_count": 58,
   "metadata": {},
   "outputs": [
    {
     "data": {
      "text/plain": [
       "2.2621571627409915"
      ]
     },
     "execution_count": 58,
     "metadata": {},
     "output_type": "execute_result"
    }
   ],
   "source": [
    "stats.t.ppf(0.975, 9)"
   ]
  },
  {
   "cell_type": "code",
   "execution_count": 59,
   "metadata": {},
   "outputs": [],
   "source": [
    "def conf_interval(list: list, alpha: float) -> list:\n",
    "    interval = []\n",
    "    interval.append(np.mean(list) - stats.t.ppf(1 - alpha / 2, len(list) - 1) * (np.std(list, ddof=1) / np.sqrt(len(list))))\n",
    "    interval.append(np.mean(list) + stats.t.ppf(1 - alpha / 2, len(list - 1)) * (np.std(list, ddof=1) / np.sqrt(len(list))))\n",
    "    list = list.sort\n",
    "    return interval  "
   ]
  },
  {
   "cell_type": "code",
   "execution_count": 60,
   "metadata": {},
   "outputs": [
    {
     "name": "stdout",
     "output_type": "stream",
     "text": [
      "[110.55608365158724, 125.53047096316908]\n"
     ]
    }
   ],
   "source": [
    "interval = conf_interval(iq, alpha)\n",
    "print(interval)"
   ]
  }
 ],
 "metadata": {
  "kernelspec": {
   "display_name": "Python 3.10.8 64-bit (microsoft store)",
   "language": "python",
   "name": "python3"
  },
  "language_info": {
   "codemirror_mode": {
    "name": "ipython",
    "version": 3
   },
   "file_extension": ".py",
   "mimetype": "text/x-python",
   "name": "python",
   "nbconvert_exporter": "python",
   "pygments_lexer": "ipython3",
   "version": "3.10.8"
  },
  "orig_nbformat": 4,
  "vscode": {
   "interpreter": {
    "hash": "a65047efe5310cba32a68f66e880a655ac4e6741fb0ee01ff8aa9e6797a50633"
   }
  }
 },
 "nbformat": 4,
 "nbformat_minor": 2
}
